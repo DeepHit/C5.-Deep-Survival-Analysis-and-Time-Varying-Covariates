{
  "nbformat": 4,
  "nbformat_minor": 0,
  "metadata": {
    "colab": {
      "name": "DDH6.ipynb",
      "provenance": [],
      "collapsed_sections": [],
      "authorship_tag": "ABX9TyMNSJY8+hV63SQabgEo0v5d",
      "include_colab_link": true
    },
    "kernelspec": {
      "name": "python3",
      "display_name": "Python 3"
    },
    "language_info": {
      "name": "python"
    }
  },
  "cells": [
    {
      "cell_type": "markdown",
      "metadata": {
        "id": "view-in-github",
        "colab_type": "text"
      },
      "source": [
        "<a href=\"https://colab.research.google.com/github/pryplotsky/C5.-Deep-Survival-Analysis-and-Time-Varying-Covariates/blob/main/DDH6.ipynb\" target=\"_parent\"><img src=\"https://colab.research.google.com/assets/colab-badge.svg\" alt=\"Open In Colab\"/></a>"
      ]
    },
    {
      "cell_type": "markdown",
      "metadata": {
        "id": "jU3KHWPp9C_Z"
      },
      "source": [
        "**Documentation:**\n",
        "1. Chenge values of the following two hyperparameters \n",
        "  - set_your_wd - path to your working directory\n",
        "  - set_your_file_name - wile name:\n",
        "2. If needed, choose variables to work with:\n",
        "  - bin_list - list of binary variables \n",
        "  - cont_list - list of numeric variables\n",
        "3. Run the code"
      ]
    },
    {
      "cell_type": "code",
      "metadata": {
        "id": "EEYto2xB89eb"
      },
      "source": [
        "#Changed hyperparameters:\n",
        "#burn_in_mode  = 'OFF' #{'ON', 'OFF'}\n",
        "#boost_mode  = 'OFF' #{'ON', 'OFF'}\n",
        "#'iteration_burn_in': 300,\n",
        "#'iteration': 500,\n",
        "#min_valid = 0.2"
      ],
      "execution_count": 25,
      "outputs": []
    },
    {
      "cell_type": "code",
      "metadata": {
        "id": "raxOLyTW8Eis"
      },
      "source": [
        "set_your_wd='/content/'\n",
        "set_your_file_name='dcr.csv'\n",
        "bin_list           = ['REtype_SF_orig_time', 'investor_orig_time']\n",
        "cont_list          = ['hpi_time', 'gdp_time']"
      ],
      "execution_count": 26,
      "outputs": []
    },
    {
      "cell_type": "code",
      "metadata": {
        "id": "KGF5sLFk85HR"
      },
      "source": [
        "import pandas as pd\n",
        "import numpy as np\n",
        "df1=pd.read_csv(set_your_wd+ set_your_file_name)#read csv\n",
        "df1['tte']=df1.groupby(['id'])['time'].transform(max)# mix time as a variable\n",
        "df1['times']=df1.groupby(['id'])['time'].shift(periods=1, fill_value=0)# shift variable 'times' and set 0 to first element in groups\n",
        "df1['label']=df1['status_time']# rename a variable"
      ],
      "execution_count": 27,
      "outputs": []
    },
    {
      "cell_type": "code",
      "metadata": {
        "id": "eXtMguEvh9ht"
      },
      "source": [
        "##### USER-DEFINED FUNCTIONS\n",
        "def f_get_Normalization(X, norm_mode):    \n",
        "    num_Patient, num_Feature = np.shape(X)\n",
        "    \n",
        "    if norm_mode == 'standard': #zero mean unit variance\n",
        "        for j in range(num_Feature):\n",
        "            if np.nanstd(X[:,j]) != 0:\n",
        "                X[:,j] = (X[:,j] - np.nanmean(X[:, j]))/np.nanstd(X[:,j])\n",
        "            else:\n",
        "                X[:,j] = (X[:,j] - np.nanmean(X[:, j]))\n",
        "    elif norm_mode == 'normal': #min-max normalization\n",
        "        for j in range(num_Feature):\n",
        "            X[:,j] = (X[:,j] - np.nanmin(X[:,j]))/(np.nanmax(X[:,j]) - np.nanmin(X[:,j]))\n",
        "    else:\n",
        "        print(\"INPUT MODE ERROR!\")\n",
        "    \n",
        "    return X\n",
        "\n",
        "\n",
        "def f_get_fc_mask1(meas_time, num_Event, num_Category):\n",
        "    '''\n",
        "        mask3 is required to get the contional probability (to calculate the denominator part)\n",
        "        mask3 size is [N, num_Event, num_Category]. 1's until the last measurement time\n",
        "    '''\n",
        "    mask = np.zeros([np.shape(meas_time)[0], num_Event, num_Category]) # for denominator\n",
        "    for i in range(np.shape(meas_time)[0]):\n",
        "        mask[i, :, :int(meas_time[i, 0]+1)] = 1 # last measurement time\n",
        "\n",
        "    return mask\n",
        "\n",
        "\n",
        "def f_get_fc_mask2(time, label, num_Event, num_Category):\n",
        "    '''\n",
        "        mask4 is required to get the log-likelihood loss \n",
        "        mask4 size is [N, num_Event, num_Category]\n",
        "            if not censored : one element = 1 (0 elsewhere)\n",
        "            if censored     : fill elements with 1 after the censoring time (for all events)\n",
        "    '''\n",
        "    mask = np.zeros([np.shape(time)[0], num_Event, num_Category]) # for the first loss function\n",
        "    for i in range(np.shape(time)[0]):\n",
        "        if label[i,0] != 0:  #not censored\n",
        "            mask[i,int(label[i,0]-1),int(time[i,0])] = 1\n",
        "        else: #label[i,2]==0: censored\n",
        "            mask[i,:,int(time[i,0]+1):] =  1 #fill 1 until from the censoring time (to get 1 - \\sum F)\n",
        "    return mask\n",
        "\n",
        "\n",
        "def f_get_fc_mask3(time, meas_time, num_Category):\n",
        "    '''\n",
        "        mask5 is required calculate the ranking loss (for pair-wise comparision)\n",
        "        mask5 size is [N, num_Category]. \n",
        "        - For longitudinal measurements:\n",
        "             1's from the last measurement to the event time (exclusive and inclusive, respectively)\n",
        "             denom is not needed since comparing is done over the same denom\n",
        "        - For single measurement:\n",
        "             1's from start to the event time(inclusive)\n",
        "    '''\n",
        "    mask = np.zeros([np.shape(time)[0], num_Category]) # for the first loss function\n",
        "    if np.shape(meas_time):  #lonogitudinal measurements \n",
        "        for i in range(np.shape(time)[0]):\n",
        "            t1 = int(meas_time[i, 0]) # last measurement time\n",
        "            t2 = int(time[i, 0]) # censoring/event time\n",
        "            mask[i,(t1+1):(t2+1)] = 1  #this excludes the last measurement time and includes the event time\n",
        "    else:                    #single measurement\n",
        "        for i in range(np.shape(time)[0]):\n",
        "            t = int(time[i, 0]) # censoring/event time\n",
        "            mask[i,:(t+1)] = 1  #this excludes the last measurement time and includes the event time\n",
        "    return mask\n",
        "\n",
        "##### TRANSFORMING DATA\n",
        "def f_construct_dataset(df, feat_list):\n",
        "    '''\n",
        "        id   : patient indicator\n",
        "        tte  : time-to-event or time-to-censoring\n",
        "            - must be synchronized based on the reference time\n",
        "        times: time at which observations are measured\n",
        "            - must be synchronized based on the reference time (i.e., times start from 0)\n",
        "        label: event/censoring information\n",
        "            - 0: censoring\n",
        "            - 1: event type 1\n",
        "            - 2: event type 2\n",
        "            ...\n",
        "    '''\n",
        "\n",
        "    grouped  = df.groupby(['id'])\n",
        "    id_list  = pd.unique(df['id'])\n",
        "    max_meas = np.max(grouped.count())[0]\n",
        "\n",
        "    data     = np.zeros([len(id_list), max_meas, len(feat_list)+1])\n",
        "    pat_info = np.zeros([len(id_list), 5])\n",
        "\n",
        "    for i, tmp_id in enumerate(id_list):\n",
        "        tmp = grouped.get_group(tmp_id).reset_index(drop=True)\n",
        "\n",
        "        pat_info[i,4] = tmp.shape[0]                                   #number of measurement\n",
        "        pat_info[i,3] = np.max(tmp['times'])     #last measurement time\n",
        "        pat_info[i,2] = tmp['label'][0]      #cause\n",
        "        pat_info[i,1] = tmp['tte'][0]         #time_to_event\n",
        "        pat_info[i,0] = tmp['id'][0]      \n",
        "\n",
        "        data[i, :int(pat_info[i, 4]), 1:]  = tmp[feat_list]\n",
        "        data[i, :int(pat_info[i, 4]-1), 0] = np.diff(tmp['times'])\n",
        "    \n",
        "    return pat_info, data\n",
        "\n"
      ],
      "execution_count": 28,
      "outputs": []
    },
    {
      "cell_type": "code",
      "metadata": {
        "id": "l9uYEeDvhnrF"
      },
      "source": [
        "def import_dataset(norm_mode = 'standard'):\n",
        "\n",
        "    df_                = df1\n",
        "\n",
        "\n",
        "    feat_list          = cont_list + bin_list\n",
        "    df_                = df_[['id', 'tte', 'times', 'label']+feat_list]\n",
        "    df_org_            = df_.copy(deep=True)\n",
        "\n",
        "    df_[cont_list]     = f_get_Normalization(np.asarray(df_[cont_list]).astype(float), norm_mode)\n",
        "\n",
        "    pat_info, data     = f_construct_dataset(df_, feat_list)\n",
        "    _, data_org        = f_construct_dataset(df_org_, feat_list)\n",
        "\n",
        "    data_mi                  = np.zeros(np.shape(data))\n",
        "    data_mi[np.isnan(data)]  = 1\n",
        "    data_org[np.isnan(data)] = 0\n",
        "    data[np.isnan(data)]     = 0 \n",
        "\n",
        "    x_dim           = np.shape(data)[2] # 1 + x_dim_cont + x_dim_bin (including delta)\n",
        "    x_dim_cont      = len(cont_list)\n",
        "    x_dim_bin       = len(bin_list) \n",
        "\n",
        "    last_meas       = pat_info[:,[3]]  #pat_info[:, 3] contains age at the last measurement\n",
        "    label           = pat_info[:,[2]]  #two competing risks\n",
        "    time            = pat_info[:,[1]]  #age when event occurred\n",
        "\n",
        "    num_Category    = int(np.max(pat_info[:, 1]) * 1.2) #or specifically define larger than the max tte\n",
        "    num_Event       = len(np.unique(label)) - 1\n",
        "\n",
        "    if num_Event == 1:\n",
        "        label[np.where(label!=0)] = 1 #make single risk\n",
        "\n",
        "    mask1           = f_get_fc_mask1(last_meas, num_Event, num_Category)\n",
        "    mask2           = f_get_fc_mask2(time, label, num_Event, num_Category)\n",
        "    mask3           = f_get_fc_mask3(time, -1, num_Category)\n",
        "\n",
        "    DIM             = (x_dim, x_dim_cont, x_dim_bin)\n",
        "    DATA            = (data, time, label)\n",
        "    # DATA            = (data, data_org, time, label)\n",
        "    MASK            = (mask1, mask2, mask3)\n",
        "\n",
        "    return DIM, DATA, MASK, data_mi"
      ],
      "execution_count": 29,
      "outputs": []
    },
    {
      "cell_type": "code",
      "metadata": {
        "colab": {
          "base_uri": "https://localhost:8080/"
        },
        "id": "ZFAgjH_bWRQ5",
        "outputId": "b1233733-d81f-4aaa-c505-f9d3ac5615a8"
      },
      "source": [
        "# To use old version of Tensorflow\n",
        "%tensorflow_version 1.x\n",
        "import tensorflow\n",
        "print(tensorflow.__version__)"
      ],
      "execution_count": 30,
      "outputs": [
        {
          "output_type": "stream",
          "text": [
            "1.15.2\n"
          ],
          "name": "stdout"
        }
      ]
    },
    {
      "cell_type": "code",
      "metadata": {
        "id": "ohQWkJbgWlZe",
        "colab": {
          "base_uri": "https://localhost:8080/"
        },
        "outputId": "1cbf053c-b5d3-4125-9d56-a18be7799a8f"
      },
      "source": [
        "!git clone https://github.com/pryplotsky/Dynamic-DeepHit.git #clone github modules\n",
        "import sys #set directory for modules \n",
        "sys.path.insert(0,'/content/Dynamic-DeepHit')"
      ],
      "execution_count": 31,
      "outputs": [
        {
          "output_type": "stream",
          "text": [
            "fatal: destination path 'Dynamic-DeepHit' already exists and is not an empty directory.\n"
          ],
          "name": "stdout"
        }
      ]
    },
    {
      "cell_type": "code",
      "metadata": {
        "id": "nvF6Hif8WtXi",
        "colab": {
          "base_uri": "https://localhost:8080/"
        },
        "outputId": "c32d6429-794c-4657-db2d-83c0405ce154"
      },
      "source": [
        "!pip install lifelines #install required package (lifelines)"
      ],
      "execution_count": 32,
      "outputs": [
        {
          "output_type": "stream",
          "text": [
            "Requirement already satisfied: lifelines in /usr/local/lib/python3.7/dist-packages (0.26.0)\n",
            "Requirement already satisfied: formulaic<0.3,>=0.2.2 in /usr/local/lib/python3.7/dist-packages (from lifelines) (0.2.4)\n",
            "Requirement already satisfied: pandas>=0.23.0 in /usr/local/lib/python3.7/dist-packages (from lifelines) (1.1.5)\n",
            "Requirement already satisfied: autograd>=1.3 in /usr/local/lib/python3.7/dist-packages (from lifelines) (1.3)\n",
            "Requirement already satisfied: autograd-gamma>=0.3 in /usr/local/lib/python3.7/dist-packages (from lifelines) (0.5.0)\n",
            "Requirement already satisfied: matplotlib>=3.0 in /usr/local/lib/python3.7/dist-packages (from lifelines) (3.2.2)\n",
            "Requirement already satisfied: numpy>=1.14.0 in /usr/local/lib/python3.7/dist-packages (from lifelines) (1.19.5)\n",
            "Requirement already satisfied: scipy>=1.2.0 in /usr/local/lib/python3.7/dist-packages (from lifelines) (1.4.1)\n",
            "Requirement already satisfied: future>=0.15.2 in /usr/local/lib/python3.7/dist-packages (from autograd>=1.3->lifelines) (0.16.0)\n",
            "Requirement already satisfied: astor in /usr/local/lib/python3.7/dist-packages (from formulaic<0.3,>=0.2.2->lifelines) (0.8.1)\n",
            "Requirement already satisfied: wrapt in /usr/local/lib/python3.7/dist-packages (from formulaic<0.3,>=0.2.2->lifelines) (1.12.1)\n",
            "Requirement already satisfied: interface-meta>=1.2 in /usr/local/lib/python3.7/dist-packages (from formulaic<0.3,>=0.2.2->lifelines) (1.2.3)\n",
            "Requirement already satisfied: cycler>=0.10 in /usr/local/lib/python3.7/dist-packages (from matplotlib>=3.0->lifelines) (0.10.0)\n",
            "Requirement already satisfied: kiwisolver>=1.0.1 in /usr/local/lib/python3.7/dist-packages (from matplotlib>=3.0->lifelines) (1.3.1)\n",
            "Requirement already satisfied: pyparsing!=2.0.4,!=2.1.2,!=2.1.6,>=2.0.1 in /usr/local/lib/python3.7/dist-packages (from matplotlib>=3.0->lifelines) (2.4.7)\n",
            "Requirement already satisfied: python-dateutil>=2.1 in /usr/local/lib/python3.7/dist-packages (from matplotlib>=3.0->lifelines) (2.8.2)\n",
            "Requirement already satisfied: six in /usr/local/lib/python3.7/dist-packages (from cycler>=0.10->matplotlib>=3.0->lifelines) (1.15.0)\n",
            "Requirement already satisfied: pytz>=2017.2 in /usr/local/lib/python3.7/dist-packages (from pandas>=0.23.0->lifelines) (2018.9)\n"
          ],
          "name": "stdout"
        }
      ]
    },
    {
      "cell_type": "code",
      "metadata": {
        "id": "cRzIQ3EtWZLG"
      },
      "source": [
        "_EPSILON = 1e-08\n",
        "\n",
        "import numpy as np\n",
        "import pandas as pd\n",
        "import tensorflow as tf\n",
        "import random\n",
        "import os\n",
        "\n",
        "from sklearn.model_selection import train_test_split\n",
        "\n",
        "import import_data as impt\n",
        "\n",
        "from class_DeepLongitudinal import Model_Longitudinal_Attention\n",
        "\n",
        "from utils_eval             import c_index, brier_score\n",
        "from utils_log              import save_logging, load_logging\n",
        "from utils_helper           import f_get_minibatch, f_get_boosted_trainset"
      ],
      "execution_count": 33,
      "outputs": []
    },
    {
      "cell_type": "code",
      "metadata": {
        "id": "P-jQa4UGW1VC"
      },
      "source": [
        "def _f_get_pred(sess, model, data, data_mi, pred_horizon):\n",
        "    '''\n",
        "        predictions based on the prediction time.\n",
        "        create new_data and new_mask2 that are available previous or equal to the prediction time (no future measurements are used)\n",
        "    '''\n",
        "    new_data    = np.zeros(np.shape(data))\n",
        "    new_data_mi = np.zeros(np.shape(data_mi))\n",
        "\n",
        "    meas_time = np.concatenate([np.zeros([np.shape(data)[0], 1]), np.cumsum(data[:, :, 0], axis=1)[:, :-1]], axis=1)\n",
        "\n",
        "    for i in range(np.shape(data)[0]):\n",
        "        last_meas = np.sum(meas_time[i, :] <= pred_horizon)\n",
        "\n",
        "        new_data[i, :last_meas, :]    = data[i, :last_meas, :]\n",
        "        new_data_mi[i, :last_meas, :] = data_mi[i, :last_meas, :]\n",
        "\n",
        "    return model.predict(new_data, new_data_mi)\n",
        "def f_get_risk_predictions(sess, model, data_, data_mi_, pred_time, eval_time):\n",
        "    \n",
        "    pred = _f_get_pred(sess, model, data_[[0]], data_mi_[[0]], 0)\n",
        "    _, num_Event, num_Category = np.shape(pred)\n",
        "       \n",
        "    risk_all = {}\n",
        "    for k in range(num_Event):\n",
        "        risk_all[k] = np.zeros([np.shape(data_)[0], len(pred_time), len(eval_time)])\n",
        "            \n",
        "    for p, p_time in enumerate(pred_time):\n",
        "        ### PREDICTION\n",
        "        pred_horizon = int(p_time)\n",
        "        pred = _f_get_pred(sess, model, data_, data_mi_, pred_horizon)\n",
        "\n",
        "\n",
        "        for t, t_time in enumerate(eval_time):\n",
        "            eval_horizon = int(t_time) + pred_horizon #if eval_horizon >= num_Category, output the maximum...\n",
        "\n",
        "            # calculate F(t | x, Y, t >= t_M) = \\sum_{t_M <= \\tau < t} P(\\tau | x, Y, \\tau > t_M)\n",
        "            risk = np.sum(pred[:,:,pred_horizon:(eval_horizon+1)], axis=2) #risk score until eval_time\n",
        "            risk = risk / (np.sum(np.sum(pred[:,:,pred_horizon:], axis=2), axis=1, keepdims=True) +_EPSILON) #conditioniong on t > t_pred\n",
        "            \n",
        "            for k in range(num_Event):\n",
        "                risk_all[k][:, p, t] = risk[:, k]\n",
        "                \n",
        "    return risk_all"
      ],
      "execution_count": 34,
      "outputs": []
    },
    {
      "cell_type": "code",
      "metadata": {
        "id": "ydBapdzlsSDV"
      },
      "source": [
        ""
      ],
      "execution_count": null,
      "outputs": []
    },
    {
      "cell_type": "code",
      "metadata": {
        "id": "MZrL3Z1SW8cg",
        "colab": {
          "base_uri": "https://localhost:8080/"
        },
        "outputId": "11630806-dc57-4225-fc26-2a0e1cefd857"
      },
      "source": [
        "data_mode                   = 'PBC2' \n",
        "seed                        = 1234\n",
        "\n",
        "##### IMPORT DATASET\n",
        "'''\n",
        "    num_Category            = max event/censoring time * 1.2\n",
        "    num_Event               = number of evetns i.e. len(np.unique(label))-1\n",
        "    max_length              = maximum number of measurements\n",
        "    x_dim                   = data dimension including delta (1 + num_features)\n",
        "    x_dim_cont              = dim of continuous features\n",
        "    x_dim_bin               = dim of binary features\n",
        "    mask1, mask2, mask3     = used for cause-specific network (FCNet structure)\n",
        "'''\n",
        "\n",
        "if data_mode == 'PBC2':\n",
        "    (x_dim, x_dim_cont, x_dim_bin), (data, time, label), (mask1, mask2, mask3), (data_mi) = import_dataset(norm_mode = 'standard')\n",
        "    \n",
        "    # This must be changed depending on the datasets, prediction/evaliation times of interest\n",
        "    pred_time = [52, 3*52, 5*52] # prediction time (in months)\n",
        "    eval_time = [12, 36, 60, 120] # months evaluation time (for C-index and Brier-Score)\n",
        "else:\n",
        "    print ('ERROR:  DATA_MODE NOT FOUND !!!')\n",
        "\n",
        "_, num_Event, num_Category  = np.shape(mask1)  # dim of mask3: [subj, Num_Event, Num_Category]\n",
        "max_length                  = np.shape(data)[1]\n",
        "\n",
        "\n",
        "file_path = '{}'.format(data_mode)\n",
        "\n",
        "if not os.path.exists(file_path):\n",
        "    os.makedirs(file_path)"
      ],
      "execution_count": 35,
      "outputs": [
        {
          "output_type": "stream",
          "text": [
            "/usr/local/lib/python3.7/dist-packages/ipykernel_launcher.py:10: SettingWithCopyWarning: \n",
            "A value is trying to be set on a copy of a slice from a DataFrame.\n",
            "Try using .loc[row_indexer,col_indexer] = value instead\n",
            "\n",
            "See the caveats in the documentation: https://pandas.pydata.org/pandas-docs/stable/user_guide/indexing.html#returning-a-view-versus-a-copy\n",
            "  # Remove the CWD from sys.path while we load stuff.\n",
            "/usr/local/lib/python3.7/dist-packages/pandas/core/indexing.py:1734: SettingWithCopyWarning: \n",
            "A value is trying to be set on a copy of a slice from a DataFrame.\n",
            "Try using .loc[row_indexer,col_indexer] = value instead\n",
            "\n",
            "See the caveats in the documentation: https://pandas.pydata.org/pandas-docs/stable/user_guide/indexing.html#returning-a-view-versus-a-copy\n",
            "  isetter(loc, value[:, i].tolist())\n"
          ],
          "name": "stderr"
        }
      ]
    },
    {
      "cell_type": "code",
      "metadata": {
        "id": "ejuTNXgiXFP1"
      },
      "source": [
        "burn_in_mode                = 'OFF' #{'ON', 'OFF'}\n",
        "boost_mode                  = 'OFF' #{'ON', 'OFF'}\n",
        "\n",
        "##### HYPER-PARAMETERS\n",
        "new_parser = {'mb_size': 32,\n",
        "\n",
        "             'iteration_burn_in': 300,\n",
        "             'iteration': 1000,\n",
        "\n",
        "             'keep_prob': 0.6,\n",
        "             'lr_train': 1e-4,\n",
        "\n",
        "             'h_dim_RNN': 100,\n",
        "             'h_dim_FC' : 100,\n",
        "             'num_layers_RNN':2,\n",
        "             'num_layers_ATT':2,\n",
        "             'num_layers_CS' :2,\n",
        "\n",
        "             'RNN_type':'LSTM', #{'LSTM', 'GRU'}\n",
        "\n",
        "             'FC_active_fn' : tf.nn.relu,\n",
        "             'RNN_active_fn': tf.nn.tanh,\n",
        "\n",
        "            'reg_W'         : 1e-5,\n",
        "            'reg_W_out'     : 0.,\n",
        "\n",
        "             'alpha' :1.0,\n",
        "             'beta'  :0.1,\n",
        "             'gamma' :1.0\n",
        "}\n",
        "\n",
        "# INPUT DIMENSIONS\n",
        "input_dims                  = { 'x_dim'         : x_dim,\n",
        "                                'x_dim_cont'    : x_dim_cont,\n",
        "                                'x_dim_bin'     : x_dim_bin,\n",
        "                                'num_Event'     : num_Event,\n",
        "                                'num_Category'  : num_Category,\n",
        "                                'max_length'    : max_length }\n",
        "\n",
        "# NETWORK HYPER-PARMETERS\n",
        "network_settings            = { 'h_dim_RNN'         : new_parser['h_dim_RNN'],\n",
        "                                'h_dim_FC'          : new_parser['h_dim_FC'],\n",
        "                                'num_layers_RNN'    : new_parser['num_layers_RNN'],\n",
        "                                'num_layers_ATT'    : new_parser['num_layers_ATT'],\n",
        "                                'num_layers_CS'     : new_parser['num_layers_CS'],\n",
        "                                'RNN_type'          : new_parser['RNN_type'],\n",
        "                                'FC_active_fn'      : new_parser['FC_active_fn'],\n",
        "                                'RNN_active_fn'     : new_parser['RNN_active_fn'],\n",
        "                                'initial_W'         : tf.contrib.layers.xavier_initializer(),\n",
        "\n",
        "                                'reg_W'             : new_parser['reg_W'],\n",
        "                                'reg_W_out'         : new_parser['reg_W_out']\n",
        "                                 }\n",
        "\n",
        "\n",
        "mb_size           = new_parser['mb_size']\n",
        "iteration         = new_parser['iteration']\n",
        "iteration_burn_in = new_parser['iteration_burn_in']\n",
        "\n",
        "keep_prob         = new_parser['keep_prob']\n",
        "lr_train          = new_parser['lr_train']\n",
        "\n",
        "alpha             = new_parser['alpha']\n",
        "beta              = new_parser['beta']\n",
        "gamma             = new_parser['gamma']\n",
        "\n",
        "# SAVE HYPERPARAMETERS\n",
        "log_name = file_path + '/hyperparameters_log.txt'\n",
        "save_logging(new_parser, log_name)"
      ],
      "execution_count": 36,
      "outputs": []
    },
    {
      "cell_type": "code",
      "metadata": {
        "id": "y-njUkz9XKaN"
      },
      "source": [
        "### TRAINING-TESTING SPLIT\n",
        "(tr_data,te_data, tr_data_mi, te_data_mi, tr_time,te_time, tr_label,te_label, \n",
        " tr_mask1,te_mask1, tr_mask2,te_mask2, tr_mask3,te_mask3) = train_test_split(data, data_mi, time, label, mask1, mask2, mask3, test_size=0.2, random_state=seed) \n",
        "\n",
        "(tr_data,va_data, tr_data_mi, va_data_mi, tr_time,va_time, tr_label,va_label, \n",
        " tr_mask1,va_mask1, tr_mask2,va_mask2, tr_mask3,va_mask3) = train_test_split(tr_data, tr_data_mi, tr_time, tr_label, tr_mask1, tr_mask2, tr_mask3, test_size=0.2, random_state=seed) \n",
        "\n",
        "if boost_mode == 'ON':\n",
        "    tr_data, tr_data_mi, tr_time, tr_label, tr_mask1, tr_mask2, tr_mask3 = f_get_boosted_trainset(tr_data, tr_data_mi, tr_time, tr_label, tr_mask1, tr_mask2, tr_mask3)"
      ],
      "execution_count": 37,
      "outputs": []
    },
    {
      "cell_type": "code",
      "metadata": {
        "colab": {
          "base_uri": "https://localhost:8080/"
        },
        "id": "3l4IYFzkogy6",
        "outputId": "d2596565-172f-42dd-a89b-750ee61675d8"
      },
      "source": [
        "##### CREATE DYNAMIC-DEEPFHT NETWORK\n",
        "tf.reset_default_graph()\n",
        "\n",
        "config = tf.ConfigProto()\n",
        "config.gpu_options.allow_growth = True\n",
        "sess = tf.Session(config=config)\n",
        "\n",
        "model = Model_Longitudinal_Attention(sess, \"Dyanmic-DeepHit\", input_dims, network_settings)\n",
        "saver = tf.train.Saver()\n",
        "\n",
        "sess.run(tf.global_variables_initializer())\n",
        "\n",
        " \n",
        "### TRAINING - BURN-IN\n",
        "if burn_in_mode == 'ON':\n",
        "    print( \"BURN-IN TRAINING ...\")\n",
        "    for itr in range(iteration_burn_in):\n",
        "        x_mb, x_mi_mb, k_mb, t_mb, m1_mb, m2_mb, m3_mb = f_get_minibatch(mb_size, tr_data, tr_data_mi, tr_label, tr_time, tr_mask1, tr_mask2, tr_mask3)\n",
        "        DATA = (x_mb, k_mb, t_mb)\n",
        "        MISSING = (x_mi_mb)\n",
        "\n",
        "        _, loss_curr = model.train_burn_in(DATA, MISSING, keep_prob, lr_train)\n",
        "\n",
        "        if (itr+1)%1000 == 0:\n",
        "            print('itr: {:04d} | loss: {:.4f}'.format(itr+1, loss_curr))\n",
        "\n",
        "### TRAINING - MAIN\n",
        "print( \"MAIN TRAINING ...\")\n",
        "min_valid = 0.2\n",
        "\n",
        "for itr in range(iteration):\n",
        "    x_mb, x_mi_mb, k_mb, t_mb, m1_mb, m2_mb, m3_mb = f_get_minibatch(mb_size, tr_data, tr_data_mi, tr_label, tr_time, tr_mask1, tr_mask2, tr_mask3)\n",
        "    DATA = (x_mb, k_mb, t_mb)\n",
        "    MASK = (m1_mb, m2_mb, m3_mb)\n",
        "    MISSING = (x_mi_mb)\n",
        "    PARAMETERS = (alpha, beta, gamma)\n",
        "\n",
        "    _, loss_curr = model.train(DATA, MASK, MISSING, PARAMETERS, keep_prob, lr_train)\n",
        "\n",
        "    if (itr+1)%1000 == 0:\n",
        "        print('itr: {:04d} | loss: {:.4f}'.format(itr+1, loss_curr))\n",
        "\n",
        "    ### VALIDATION  (based on average C-index of our interest)\n",
        "    if (itr+1)%1000 == 0:        \n",
        "        risk_all = f_get_risk_predictions(sess, model, va_data, va_data_mi, pred_time, eval_time)\n",
        "        \n",
        "        for p, p_time in enumerate(pred_time):\n",
        "            pred_horizon = int(p_time)\n",
        "            val_result1 = np.zeros([num_Event, len(eval_time)])\n",
        "            \n",
        "            for t, t_time in enumerate(eval_time):                \n",
        "                eval_horizon = int(t_time) + pred_horizon\n",
        "                for k in range(num_Event):\n",
        "                    val_result1[k, t] = c_index(risk_all[k][:, p, t], va_time, (va_label[:,0] == k+1).astype(int), eval_horizon) #-1 for no event (not comparable)\n",
        "            \n",
        "            if p == 0:\n",
        "                val_final1 = val_result1\n",
        "            else:\n",
        "                val_final1 = np.append(val_final1, val_result1, axis=0)\n",
        "\n",
        "        tmp_valid = np.mean(val_final1)\n",
        "\n",
        "        if tmp_valid >  min_valid:\n",
        "            min_valid = tmp_valid\n",
        "            saver.save(sess, file_path + '/model')\n",
        "            print( 'updated.... average c-index = ' + str('%.4f' %(tmp_valid)))"
      ],
      "execution_count": 39,
      "outputs": [
        {
          "output_type": "stream",
          "text": [
            "INFO:tensorflow:Scale of 0 disables regularizer.\n",
            "MAIN TRAINING ...\n",
            "itr: 1000 | loss: 3.7598\n",
            "updated.... average c-index = 0.2052\n"
          ],
          "name": "stdout"
        }
      ]
    },
    {
      "cell_type": "code",
      "metadata": {
        "colab": {
          "base_uri": "https://localhost:8080/"
        },
        "id": "mCv0FYb8XM-I",
        "outputId": "41a03e79-85bd-4a6c-b3a1-5bf13a1d5335"
      },
      "source": [
        "saver.restore(sess, file_path + '/model' )\n",
        "\n",
        "risk_all = f_get_risk_predictions(sess, model, te_data, te_data_mi, pred_time, eval_time)\n",
        "\n",
        "for p, p_time in enumerate(pred_time):\n",
        "    pred_horizon = int(p_time)\n",
        "    result1, result2 = np.zeros([num_Event, len(eval_time)]), np.zeros([num_Event, len(eval_time)])\n",
        "\n",
        "    for t, t_time in enumerate(eval_time):                \n",
        "        eval_horizon = int(t_time) + pred_horizon\n",
        "        for k in range(num_Event):\n",
        "            result1[k, t] = c_index(risk_all[k][:, p, t], te_time, (te_label[:,0] == k+1).astype(int), eval_horizon) #-1 for no event (not comparable)\n",
        "            result2[k, t] = brier_score(risk_all[k][:, p, t], te_time, (te_label[:,0] == k+1).astype(int), eval_horizon) #-1 for no event (not comparable)\n",
        "    \n",
        "    if p == 0:\n",
        "        final1, final2 = result1, result2\n",
        "    else:\n",
        "        final1, final2 = np.append(final1, result1, axis=0), np.append(final2, result2, axis=0)\n",
        "        \n",
        "        \n",
        "row_header = []\n",
        "for p_time in pred_time:\n",
        "    for t in range(num_Event):\n",
        "        row_header.append('pred_time {}: event_{}'.format(p_time,k+1))\n",
        "            \n",
        "col_header = []\n",
        "for t_time in eval_time:\n",
        "    col_header.append('eval_time {}'.format(t_time))\n",
        "\n",
        "# c-index result\n",
        "df1 = pd.DataFrame(final1, index = row_header, columns=col_header)\n",
        "\n",
        "# brier-score result\n",
        "df2 = pd.DataFrame(final2, index = row_header, columns=col_header)\n",
        "\n",
        "### PRINT RESULTS\n",
        "print('========================================================')\n",
        "print('--------------------------------------------------------')\n",
        "print('- C-INDEX: ')\n",
        "print(df1)\n",
        "print('--------------------------------------------------------')\n",
        "print('- BRIER-SCORE: ')\n",
        "print(df2)\n",
        "print('========================================================')"
      ],
      "execution_count": 40,
      "outputs": [
        {
          "output_type": "stream",
          "text": [
            "INFO:tensorflow:Restoring parameters from PBC2/model\n",
            "========================================================\n",
            "--------------------------------------------------------\n",
            "- C-INDEX: \n",
            "                        eval_time 12  eval_time 36  eval_time 60  eval_time 120\n",
            "pred_time 52: event_2       0.984900      0.014504      0.014504       0.014504\n",
            "pred_time 52: event_2       0.970488      0.967334      0.967334       0.967334\n",
            "pred_time 156: event_2      0.000000      0.000000      0.000000       0.000000\n",
            "pred_time 156: event_2      0.000000      0.000000      0.000000       0.000000\n",
            "pred_time 260: event_2      0.000000      0.000000      0.000000       0.000000\n",
            "pred_time 260: event_2      0.000000      0.000000      0.000000       0.000000\n",
            "--------------------------------------------------------\n",
            "- BRIER-SCORE: \n",
            "                        eval_time 12  eval_time 36  eval_time 60  eval_time 120\n",
            "pred_time 52: event_2       0.008179      0.947455      0.947455       0.947455\n",
            "pred_time 52: event_2       0.032759      0.025060      0.025060       0.025060\n",
            "pred_time 156: event_2      0.008000      0.008000      0.008000       0.008000\n",
            "pred_time 156: event_2      0.062000      0.062000      0.062000       0.062000\n",
            "pred_time 260: event_2      0.008000      0.008000      0.008000       0.008000\n",
            "pred_time 260: event_2      0.062000      0.062000      0.062000       0.062000\n",
            "========================================================\n"
          ],
          "name": "stdout"
        }
      ]
    }
  ]
}