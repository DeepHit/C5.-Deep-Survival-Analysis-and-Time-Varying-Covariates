{
  "nbformat": 4,
  "nbformat_minor": 0,
  "metadata": {
    "colab": {
      "name": "CPH.ipynb",
      "provenance": [],
      "collapsed_sections": [],
      "authorship_tag": "ABX9TyNkrd8Yjyw5przivDRqXdqg",
      "include_colab_link": true
    },
    "kernelspec": {
      "name": "python3",
      "display_name": "Python 3"
    },
    "language_info": {
      "name": "python"
    }
  },
  "cells": [
    {
      "cell_type": "markdown",
      "metadata": {
        "id": "view-in-github",
        "colab_type": "text"
      },
      "source": [
        "<a href=\"https://colab.research.google.com/github/pryplotsky/C5.-Deep-Survival-Analysis-and-Time-Varying-Covariates/blob/main/CPH.ipynb\" target=\"_parent\"><img src=\"https://colab.research.google.com/assets/colab-badge.svg\" alt=\"Open In Colab\"/></a>"
      ]
    },
    {
      "cell_type": "code",
      "metadata": {
        "id": "MiTnR5T4YzgG"
      },
      "source": [
        "#Some basic istructions:\n",
        "# 1. Each line of code must be FULLY DOCUMENTED\n",
        "# 2. Everything should be inside a class(classes) or functions if you don't know OOP\n",
        "# 3. Please avoid using values (numbers/string/....) use instead variables\n",
        "# 4. Use default values for your function arguments whenever possible\n",
        "\n",
        "#Plan:\n",
        "# We need functions/methods for:\n",
        "# 1. Read and save a data\n",
        "# 2. Pre-process the data (if needed)\n",
        "# 3. Split the data into 3 sets: train(80%)  + dev (10%) + test(10%)\n",
        "# 4. Obtain relevant statistics (if needed)\n",
        "# 5. Create Cox time ( CPH for TVC) model\n",
        "# 6. Plot results"
      ],
      "execution_count": null,
      "outputs": []
    },
    {
      "cell_type": "code",
      "metadata": {
        "id": "pXIk0aH2daz5"
      },
      "source": [
        "### Install  packages and define global variables\n",
        "#Basic:\n",
        "import pandas as pd\n",
        "import numpy as np\n",
        "# 1.Read and save a data:\n",
        "#...\n",
        "#...\n",
        "\n",
        "#Global variables:\n",
        "#...\n",
        "#..."
      ],
      "execution_count": null,
      "outputs": []
    },
    {
      "cell_type": "markdown",
      "metadata": {
        "id": "r7BxB1vqeYIB"
      },
      "source": [
        "**Main part of code**"
      ]
    },
    {
      "cell_type": "code",
      "metadata": {
        "id": "D4vI-6DjecCr"
      },
      "source": [
        ""
      ],
      "execution_count": null,
      "outputs": []
    }
  ]
}