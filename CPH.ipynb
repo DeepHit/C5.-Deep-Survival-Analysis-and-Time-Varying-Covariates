{
  "nbformat": 4,
  "nbformat_minor": 0,
  "metadata": {
    "colab": {
      "name": "CPH.ipynb",
      "provenance": [],
      "collapsed_sections": [],
      "authorship_tag": "ABX9TyPxw/WNnrq8n6eTHPt137vx",
      "include_colab_link": true
    },
    "kernelspec": {
      "name": "python3",
      "display_name": "Python 3"
    },
    "language_info": {
      "name": "python"
    }
  },
  "cells": [
    {
      "cell_type": "markdown",
      "metadata": {
        "id": "view-in-github",
        "colab_type": "text"
      },
      "source": [
        "<a href=\"https://colab.research.google.com/github/pryplotsky/C5.-Deep-Survival-Analysis-and-Time-Varying-Covariates/blob/main/CPH.ipynb\" target=\"_parent\"><img src=\"https://colab.research.google.com/assets/colab-badge.svg\" alt=\"Open In Colab\"/></a>"
      ]
    },
    {
      "cell_type": "code",
      "metadata": {
        "id": "MiTnR5T4YzgG"
      },
      "source": [
        "#Some basic istructions:\n",
        "# 1.All code must be FULLY DOCUMENTED\n",
        "# 2.Everything should be inside a class(classes) or functions if you don't know OOP\n",
        "# 3.Please avoid using values (numbers/string/....) use instead variables\n",
        "# 4.Use default values for your function arguments whenever possible"
      ],
      "execution_count": null,
      "outputs": []
    }
  ]
}