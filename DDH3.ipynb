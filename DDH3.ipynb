{
  "nbformat": 4,
  "nbformat_minor": 0,
  "metadata": {
    "colab": {
      "name": "DDH3.ipynb",
      "provenance": [],
      "authorship_tag": "ABX9TyNnIV9K4v0ozESi3gF9KF/s",
      "include_colab_link": true
    },
    "kernelspec": {
      "name": "python3",
      "display_name": "Python 3"
    },
    "language_info": {
      "name": "python"
    }
  },
  "cells": [
    {
      "cell_type": "markdown",
      "metadata": {
        "id": "view-in-github",
        "colab_type": "text"
      },
      "source": [
        "<a href=\"https://colab.research.google.com/github/pryplotsky/C5.-Deep-Survival-Analysis-and-Time-Varying-Covariates/blob/main/DDH3.ipynb\" target=\"_parent\"><img src=\"https://colab.research.google.com/assets/colab-badge.svg\" alt=\"Open In Colab\"/></a>"
      ]
    },
    {
      "cell_type": "code",
      "metadata": {
        "colab": {
          "base_uri": "https://localhost:8080/"
        },
        "id": "7BBLrSmiWUw-",
        "outputId": "1186a62f-925e-45d2-b49c-79b1cd5a2aa2"
      },
      "source": [
        "%tensorflow_version 1.x"
      ],
      "execution_count": 1,
      "outputs": [
        {
          "output_type": "stream",
          "text": [
            "TensorFlow 1.x selected.\n"
          ],
          "name": "stdout"
        }
      ]
    },
    {
      "cell_type": "code",
      "metadata": {
        "colab": {
          "base_uri": "https://localhost:8080/"
        },
        "id": "ZFAgjH_bWRQ5",
        "outputId": "d17add61-29fb-445b-b66a-85be98a19873"
      },
      "source": [
        "import tensorflow\n",
        "print(tensorflow.__version__)"
      ],
      "execution_count": 2,
      "outputs": [
        {
          "output_type": "stream",
          "text": [
            "1.15.2\n"
          ],
          "name": "stdout"
        }
      ]
    },
    {
      "cell_type": "code",
      "metadata": {
        "colab": {
          "base_uri": "https://localhost:8080/"
        },
        "id": "ohQWkJbgWlZe",
        "outputId": "a0eb48b1-5cc7-4e01-96c3-e68ada754611"
      },
      "source": [
        "!git clone https://github.com/pryplotsky/Dynamic-DeepHit.git #clone github modules\n",
        "import sys #set directory for modules \n",
        "sys.path.insert(0,'/content/Dynamic-DeepHit')"
      ],
      "execution_count": 3,
      "outputs": [
        {
          "output_type": "stream",
          "text": [
            "Cloning into 'Dynamic-DeepHit'...\n",
            "remote: Enumerating objects: 24, done.\u001b[K\n",
            "remote: Counting objects: 100% (24/24), done.\u001b[K\n",
            "remote: Compressing objects: 100% (21/21), done.\u001b[K\n",
            "remote: Total 24 (delta 6), reused 17 (delta 3), pack-reused 0\u001b[K\n",
            "Unpacking objects: 100% (24/24), done.\n"
          ],
          "name": "stdout"
        }
      ]
    },
    {
      "cell_type": "code",
      "metadata": {
        "colab": {
          "base_uri": "https://localhost:8080/"
        },
        "id": "nvF6Hif8WtXi",
        "outputId": "7e9662bb-cf83-4abf-c438-d2227aaa5a6a"
      },
      "source": [
        "!pip install lifelines #install required package"
      ],
      "execution_count": 5,
      "outputs": [
        {
          "output_type": "stream",
          "text": [
            "Collecting lifelines\n",
            "  Downloading lifelines-0.26.0-py3-none-any.whl (348 kB)\n",
            "\u001b[K     |████████████████████████████████| 348 kB 4.9 MB/s \n",
            "\u001b[?25hCollecting formulaic<0.3,>=0.2.2\n",
            "  Downloading formulaic-0.2.4-py3-none-any.whl (55 kB)\n",
            "\u001b[K     |████████████████████████████████| 55 kB 2.9 MB/s \n",
            "\u001b[?25hRequirement already satisfied: matplotlib>=3.0 in /usr/local/lib/python3.7/dist-packages (from lifelines) (3.2.2)\n",
            "Requirement already satisfied: autograd>=1.3 in /usr/local/lib/python3.7/dist-packages (from lifelines) (1.3)\n",
            "Collecting autograd-gamma>=0.3\n",
            "  Downloading autograd-gamma-0.5.0.tar.gz (4.0 kB)\n",
            "Requirement already satisfied: numpy>=1.14.0 in /usr/local/lib/python3.7/dist-packages (from lifelines) (1.19.5)\n",
            "Requirement already satisfied: pandas>=0.23.0 in /usr/local/lib/python3.7/dist-packages (from lifelines) (1.1.5)\n",
            "Requirement already satisfied: scipy>=1.2.0 in /usr/local/lib/python3.7/dist-packages (from lifelines) (1.4.1)\n",
            "Requirement already satisfied: future>=0.15.2 in /usr/local/lib/python3.7/dist-packages (from autograd>=1.3->lifelines) (0.16.0)\n",
            "Requirement already satisfied: astor in /usr/local/lib/python3.7/dist-packages (from formulaic<0.3,>=0.2.2->lifelines) (0.8.1)\n",
            "Requirement already satisfied: wrapt in /usr/local/lib/python3.7/dist-packages (from formulaic<0.3,>=0.2.2->lifelines) (1.12.1)\n",
            "Collecting interface-meta>=1.2\n",
            "  Downloading interface_meta-1.2.3-py2.py3-none-any.whl (14 kB)\n",
            "Requirement already satisfied: kiwisolver>=1.0.1 in /usr/local/lib/python3.7/dist-packages (from matplotlib>=3.0->lifelines) (1.3.1)\n",
            "Requirement already satisfied: python-dateutil>=2.1 in /usr/local/lib/python3.7/dist-packages (from matplotlib>=3.0->lifelines) (2.8.1)\n",
            "Requirement already satisfied: pyparsing!=2.0.4,!=2.1.2,!=2.1.6,>=2.0.1 in /usr/local/lib/python3.7/dist-packages (from matplotlib>=3.0->lifelines) (2.4.7)\n",
            "Requirement already satisfied: cycler>=0.10 in /usr/local/lib/python3.7/dist-packages (from matplotlib>=3.0->lifelines) (0.10.0)\n",
            "Requirement already satisfied: six in /usr/local/lib/python3.7/dist-packages (from cycler>=0.10->matplotlib>=3.0->lifelines) (1.15.0)\n",
            "Requirement already satisfied: pytz>=2017.2 in /usr/local/lib/python3.7/dist-packages (from pandas>=0.23.0->lifelines) (2018.9)\n",
            "Building wheels for collected packages: autograd-gamma\n",
            "  Building wheel for autograd-gamma (setup.py) ... \u001b[?25l\u001b[?25hdone\n",
            "  Created wheel for autograd-gamma: filename=autograd_gamma-0.5.0-py3-none-any.whl size=4048 sha256=1a34b080d135ba3ccfd13a66865ae8240847957d17a33a348c93780afd02ab7e\n",
            "  Stored in directory: /root/.cache/pip/wheels/9f/01/ee/1331593abb5725ff7d8c1333aee93a50a1c29d6ddda9665c9f\n",
            "Successfully built autograd-gamma\n",
            "Installing collected packages: interface-meta, formulaic, autograd-gamma, lifelines\n",
            "Successfully installed autograd-gamma-0.5.0 formulaic-0.2.4 interface-meta-1.2.3 lifelines-0.26.0\n"
          ],
          "name": "stdout"
        }
      ]
    },
    {
      "cell_type": "code",
      "metadata": {
        "id": "cRzIQ3EtWZLG"
      },
      "source": [
        "_EPSILON = 1e-08\n",
        "\n",
        "import numpy as np\n",
        "import pandas as pd\n",
        "import tensorflow as tf\n",
        "import random\n",
        "import os\n",
        "\n",
        "from sklearn.model_selection import train_test_split\n",
        "\n",
        "import import_data as impt\n",
        "\n",
        "from class_DeepLongitudinal import Model_Longitudinal_Attention\n",
        "\n",
        "from utils_eval             import c_index, brier_score\n",
        "from utils_log              import save_logging, load_logging\n",
        "from utils_helper           import f_get_minibatch, f_get_boosted_trainset"
      ],
      "execution_count": 6,
      "outputs": []
    },
    {
      "cell_type": "code",
      "metadata": {
        "id": "P-jQa4UGW1VC"
      },
      "source": [
        "\n",
        "def _f_get_pred(sess, model, data, data_mi, pred_horizon):\n",
        "    '''\n",
        "        predictions based on the prediction time.\n",
        "        create new_data and new_mask2 that are available previous or equal to the prediction time (no future measurements are used)\n",
        "    '''\n",
        "    new_data    = np.zeros(np.shape(data))\n",
        "    new_data_mi = np.zeros(np.shape(data_mi))\n",
        "\n",
        "    meas_time = np.concatenate([np.zeros([np.shape(data)[0], 1]), np.cumsum(data[:, :, 0], axis=1)[:, :-1]], axis=1)\n",
        "\n",
        "    for i in range(np.shape(data)[0]):\n",
        "        last_meas = np.sum(meas_time[i, :] <= pred_horizon)\n",
        "\n",
        "        new_data[i, :last_meas, :]    = data[i, :last_meas, :]\n",
        "        new_data_mi[i, :last_meas, :] = data_mi[i, :last_meas, :]\n",
        "\n",
        "    return model.predict(new_data, new_data_mi)\n",
        "def f_get_risk_predictions(sess, model, data_, data_mi_, pred_time, eval_time):\n",
        "    \n",
        "    pred = _f_get_pred(sess, model, data_[[0]], data_mi_[[0]], 0)\n",
        "    _, num_Event, num_Category = np.shape(pred)\n",
        "       \n",
        "    risk_all = {}\n",
        "    for k in range(num_Event):\n",
        "        risk_all[k] = np.zeros([np.shape(data_)[0], len(pred_time), len(eval_time)])\n",
        "            \n",
        "    for p, p_time in enumerate(pred_time):\n",
        "        ### PREDICTION\n",
        "        pred_horizon = int(p_time)\n",
        "        pred = _f_get_pred(sess, model, data_, data_mi_, pred_horizon)\n",
        "\n",
        "\n",
        "        for t, t_time in enumerate(eval_time):\n",
        "            eval_horizon = int(t_time) + pred_horizon #if eval_horizon >= num_Category, output the maximum...\n",
        "\n",
        "            # calculate F(t | x, Y, t >= t_M) = \\sum_{t_M <= \\tau < t} P(\\tau | x, Y, \\tau > t_M)\n",
        "            risk = np.sum(pred[:,:,pred_horizon:(eval_horizon+1)], axis=2) #risk score until eval_time\n",
        "            risk = risk / (np.sum(np.sum(pred[:,:,pred_horizon:], axis=2), axis=1, keepdims=True) +_EPSILON) #conditioniong on t > t_pred\n",
        "            \n",
        "            for k in range(num_Event):\n",
        "                risk_all[k][:, p, t] = risk[:, k]\n",
        "                \n",
        "    return risk_all"
      ],
      "execution_count": 7,
      "outputs": []
    },
    {
      "cell_type": "code",
      "metadata": {
        "id": "MZrL3Z1SW8cg"
      },
      "source": [
        "data_mode                   = 'PBC2' \n",
        "seed                        = 1234\n",
        "\n",
        "##### IMPORT DATASET\n",
        "'''\n",
        "    num_Category            = max event/censoring time * 1.2\n",
        "    num_Event               = number of evetns i.e. len(np.unique(label))-1\n",
        "    max_length              = maximum number of measurements\n",
        "    x_dim                   = data dimension including delta (1 + num_features)\n",
        "    x_dim_cont              = dim of continuous features\n",
        "    x_dim_bin               = dim of binary features\n",
        "    mask1, mask2, mask3     = used for cause-specific network (FCNet structure)\n",
        "'''\n",
        "\n",
        "if data_mode == 'PBC2':\n",
        "    (x_dim, x_dim_cont, x_dim_bin), (data, time, label), (mask1, mask2, mask3), (data_mi) = impt.import_dataset(norm_mode = 'standard')\n",
        "    \n",
        "    # This must be changed depending on the datasets, prediction/evaliation times of interest\n",
        "    pred_time = [52, 3*52, 5*52] # prediction time (in months)\n",
        "    eval_time = [12, 36, 60, 120] # months evaluation time (for C-index and Brier-Score)\n",
        "else:\n",
        "    print ('ERROR:  DATA_MODE NOT FOUND !!!')\n",
        "\n",
        "_, num_Event, num_Category  = np.shape(mask1)  # dim of mask3: [subj, Num_Event, Num_Category]\n",
        "max_length                  = np.shape(data)[1]\n",
        "\n",
        "\n",
        "file_path = '{}'.format(data_mode)\n",
        "\n",
        "if not os.path.exists(file_path):\n",
        "    os.makedirs(file_path)"
      ],
      "execution_count": 8,
      "outputs": []
    },
    {
      "cell_type": "code",
      "metadata": {
        "colab": {
          "base_uri": "https://localhost:8080/"
        },
        "id": "ejuTNXgiXFP1",
        "outputId": "88118374-ee17-4046-9ded-5c970f827472"
      },
      "source": [
        "burn_in_mode                = 'ON' #{'ON', 'OFF'}\n",
        "boost_mode                  = 'ON' #{'ON', 'OFF'}\n",
        "\n",
        "##### HYPER-PARAMETERS\n",
        "new_parser = {'mb_size': 32,\n",
        "\n",
        "             'iteration_burn_in': 3000,\n",
        "             'iteration': 25000,\n",
        "\n",
        "             'keep_prob': 0.6,\n",
        "             'lr_train': 1e-4,\n",
        "\n",
        "             'h_dim_RNN': 100,\n",
        "             'h_dim_FC' : 100,\n",
        "             'num_layers_RNN':2,\n",
        "             'num_layers_ATT':2,\n",
        "             'num_layers_CS' :2,\n",
        "\n",
        "             'RNN_type':'LSTM', #{'LSTM', 'GRU'}\n",
        "\n",
        "             'FC_active_fn' : tf.nn.relu,\n",
        "             'RNN_active_fn': tf.nn.tanh,\n",
        "\n",
        "            'reg_W'         : 1e-5,\n",
        "            'reg_W_out'     : 0.,\n",
        "\n",
        "             'alpha' :1.0,\n",
        "             'beta'  :0.1,\n",
        "             'gamma' :1.0\n",
        "}\n",
        "\n",
        "# INPUT DIMENSIONS\n",
        "input_dims                  = { 'x_dim'         : x_dim,\n",
        "                                'x_dim_cont'    : x_dim_cont,\n",
        "                                'x_dim_bin'     : x_dim_bin,\n",
        "                                'num_Event'     : num_Event,\n",
        "                                'num_Category'  : num_Category,\n",
        "                                'max_length'    : max_length }\n",
        "\n",
        "# NETWORK HYPER-PARMETERS\n",
        "network_settings            = { 'h_dim_RNN'         : new_parser['h_dim_RNN'],\n",
        "                                'h_dim_FC'          : new_parser['h_dim_FC'],\n",
        "                                'num_layers_RNN'    : new_parser['num_layers_RNN'],\n",
        "                                'num_layers_ATT'    : new_parser['num_layers_ATT'],\n",
        "                                'num_layers_CS'     : new_parser['num_layers_CS'],\n",
        "                                'RNN_type'          : new_parser['RNN_type'],\n",
        "                                'FC_active_fn'      : new_parser['FC_active_fn'],\n",
        "                                'RNN_active_fn'     : new_parser['RNN_active_fn'],\n",
        "                                'initial_W'         : tf.contrib.layers.xavier_initializer(),\n",
        "\n",
        "                                'reg_W'             : new_parser['reg_W'],\n",
        "                                'reg_W_out'         : new_parser['reg_W_out']\n",
        "                                 }\n",
        "\n",
        "\n",
        "mb_size           = new_parser['mb_size']\n",
        "iteration         = new_parser['iteration']\n",
        "iteration_burn_in = new_parser['iteration_burn_in']\n",
        "\n",
        "keep_prob         = new_parser['keep_prob']\n",
        "lr_train          = new_parser['lr_train']\n",
        "\n",
        "alpha             = new_parser['alpha']\n",
        "beta              = new_parser['beta']\n",
        "gamma             = new_parser['gamma']\n",
        "\n",
        "# SAVE HYPERPARAMETERS\n",
        "log_name = file_path + '/hyperparameters_log.txt'\n",
        "save_logging(new_parser, log_name)"
      ],
      "execution_count": 10,
      "outputs": [
        {
          "output_type": "stream",
          "text": [
            "WARNING:tensorflow:\n",
            "The TensorFlow contrib module will not be included in TensorFlow 2.0.\n",
            "For more information, please see:\n",
            "  * https://github.com/tensorflow/community/blob/master/rfcs/20180907-contrib-sunset.md\n",
            "  * https://github.com/tensorflow/addons\n",
            "  * https://github.com/tensorflow/io (for I/O related ops)\n",
            "If you depend on functionality not listed there, please file an issue.\n",
            "\n"
          ],
          "name": "stdout"
        }
      ]
    },
    {
      "cell_type": "code",
      "metadata": {
        "id": "y-njUkz9XKaN"
      },
      "source": [
        "### TRAINING-TESTING SPLIT\n",
        "(tr_data,te_data, tr_data_mi, te_data_mi, tr_time,te_time, tr_label,te_label, \n",
        " tr_mask1,te_mask1, tr_mask2,te_mask2, tr_mask3,te_mask3) = train_test_split(data, data_mi, time, label, mask1, mask2, mask3, test_size=0.2, random_state=seed) \n",
        "\n",
        "(tr_data,va_data, tr_data_mi, va_data_mi, tr_time,va_time, tr_label,va_label, \n",
        " tr_mask1,va_mask1, tr_mask2,va_mask2, tr_mask3,va_mask3) = train_test_split(tr_data, tr_data_mi, tr_time, tr_label, tr_mask1, tr_mask2, tr_mask3, test_size=0.2, random_state=seed) \n",
        "\n",
        "if boost_mode == 'ON':\n",
        "    tr_data, tr_data_mi, tr_time, tr_label, tr_mask1, tr_mask2, tr_mask3 = f_get_boosted_trainset(tr_data, tr_data_mi, tr_time, tr_label, tr_mask1, tr_mask2, tr_mask3)"
      ],
      "execution_count": 11,
      "outputs": []
    },
    {
      "cell_type": "code",
      "metadata": {
        "colab": {
          "base_uri": "https://localhost:8080/"
        },
        "id": "DtGYgPUfXNDm",
        "outputId": "fd02c470-92e7-4a27-ee33-a4bc2dde59b1"
      },
      "source": [
        "##### CREATE DYNAMIC-DEEPFHT NETWORK\n",
        "tf.reset_default_graph()\n",
        "\n",
        "config = tf.ConfigProto()\n",
        "config.gpu_options.allow_growth = True\n",
        "sess = tf.Session(config=config)\n",
        "\n",
        "model = Model_Longitudinal_Attention(sess, \"Dyanmic-DeepHit\", input_dims, network_settings)\n",
        "saver = tf.train.Saver()\n",
        "\n",
        "sess.run(tf.global_variables_initializer())\n",
        "\n",
        " ### TRAINING - BURN-IN\n",
        "if burn_in_mode == 'ON':\n",
        "    print( \"BURN-IN TRAINING ...\")\n",
        "    for itr in range(iteration_burn_in):\n",
        "        x_mb, x_mi_mb, k_mb, t_mb, m1_mb, m2_mb, m3_mb = f_get_minibatch(mb_size, tr_data, tr_data_mi, tr_label, tr_time, tr_mask1, tr_mask2, tr_mask3)\n",
        "        DATA = (x_mb, k_mb, t_mb)\n",
        "        MISSING = (x_mi_mb)\n",
        "\n",
        "        _, loss_curr = model.train_burn_in(DATA, MISSING, keep_prob, lr_train)\n",
        "\n",
        "        if (itr+1)%1000 == 0:\n",
        "            print('itr: {:04d} | loss: {:.4f}'.format(itr+1, loss_curr))\n",
        "\n",
        "\n",
        "### TRAINING - MAIN\n",
        "print( \"MAIN TRAINING ...\")\n",
        "min_valid = 0.5\n",
        "\n",
        "for itr in range(iteration):\n",
        "    x_mb, x_mi_mb, k_mb, t_mb, m1_mb, m2_mb, m3_mb = f_get_minibatch(mb_size, tr_data, tr_data_mi, tr_label, tr_time, tr_mask1, tr_mask2, tr_mask3)\n",
        "    DATA = (x_mb, k_mb, t_mb)\n",
        "    MASK = (m1_mb, m2_mb, m3_mb)\n",
        "    MISSING = (x_mi_mb)\n",
        "    PARAMETERS = (alpha, beta, gamma)\n",
        "\n",
        "    _, loss_curr = model.train(DATA, MASK, MISSING, PARAMETERS, keep_prob, lr_train)\n",
        "\n",
        "    if (itr+1)%1000 == 0:\n",
        "        print('itr: {:04d} | loss: {:.4f}'.format(itr+1, loss_curr))\n",
        "\n",
        "##### CREATE DYNAMIC-DEEPFHT NETWORK\n",
        "tf.reset_default_graph()\n",
        "\n",
        "config = tf.ConfigProto()\n",
        "config.gpu_options.allow_growth = True\n",
        "sess = tf.Session(config=config)\n",
        "\n",
        "model = Model_Longitudinal_Attention(sess, \"Dyanmic-DeepHit\", input_dims, network_settings)\n",
        "saver = tf.train.Saver()\n",
        "\n",
        "sess.run(tf.global_variables_initializer())\n",
        "\n",
        " \n",
        "### TRAINING - BURN-IN\n",
        "if burn_in_mode == 'ON':\n",
        "    print( \"BURN-IN TRAINING ...\")\n",
        "    for itr in range(iteration_burn_in):\n",
        "        x_mb, x_mi_mb, k_mb, t_mb, m1_mb, m2_mb, m3_mb = f_get_minibatch(mb_size, tr_data, tr_data_mi, tr_label, tr_time, tr_mask1, tr_mask2, tr_mask3)\n",
        "        DATA = (x_mb, k_mb, t_mb)\n",
        "        MISSING = (x_mi_mb)\n",
        "\n",
        "        _, loss_curr = model.train_burn_in(DATA, MISSING, keep_prob, lr_train)\n",
        "\n",
        "        if (itr+1)%1000 == 0:\n",
        "            print('itr: {:04d} | loss: {:.4f}'.format(itr+1, loss_curr))\n",
        "\n",
        "\n",
        "### TRAINING - MAIN\n",
        "print( \"MAIN TRAINING ...\")\n",
        "min_valid = 0.5\n",
        "\n",
        "for itr in range(iteration):\n",
        "    x_mb, x_mi_mb, k_mb, t_mb, m1_mb, m2_mb, m3_mb = f_get_minibatch(mb_size, tr_data, tr_data_mi, tr_label, tr_time, tr_mask1, tr_mask2, tr_mask3)\n",
        "    DATA = (x_mb, k_mb, t_mb)\n",
        "    MASK = (m1_mb, m2_mb, m3_mb)\n",
        "    MISSING = (x_mi_mb)\n",
        "    PARAMETERS = (alpha, beta, gamma)\n",
        "\n",
        "    _, loss_curr = model.train(DATA, MASK, MISSING, PARAMETERS, keep_prob, lr_train)\n",
        "\n",
        "    if (itr+1)%1000 == 0:\n",
        "        print('itr: {:04d} | loss: {:.4f}'.format(itr+1, loss_curr))\n",
        "\n",
        "    ### VALIDATION  (based on average C-index of our interest)\n",
        "    if (itr+1)%1000 == 0:        \n",
        "        risk_all = f_get_risk_predictions(sess, model, va_data, va_data_mi, pred_time, eval_time)\n",
        "        \n",
        "        for p, p_time in enumerate(pred_time):\n",
        "            pred_horizon = int(p_time)\n",
        "            val_result1 = np.zeros([num_Event, len(eval_time)])\n",
        "            \n",
        "            for t, t_time in enumerate(eval_time):                \n",
        "                eval_horizon = int(t_time) + pred_horizon\n",
        "                for k in range(num_Event):\n",
        "                    val_result1[k, t] = c_index(risk_all[k][:, p, t], va_time, (va_label[:,0] == k+1).astype(int), eval_horizon) #-1 for no event (not comparable)\n",
        "            \n",
        "            if p == 0:\n",
        "                val_final1 = val_result1\n",
        "            else:\n",
        "                val_final1 = np.append(val_final1, val_result1, axis=0)\n",
        "\n",
        "        tmp_valid = np.mean(val_final1)\n",
        "\n",
        "        if tmp_valid >  min_valid:\n",
        "            min_valid = tmp_valid\n",
        "            saver.save(sess, file_path + '/model')\n",
        "            print( 'updated.... average c-index = ' + str('%.4f' %(tmp_valid)))"
      ],
      "execution_count": null,
      "outputs": [
        {
          "output_type": "stream",
          "text": [
            "INFO:tensorflow:Scale of 0 disables regularizer.\n",
            "BURN-IN TRAINING ...\n",
            "itr: 1000 | loss: 206.2970\n",
            "itr: 2000 | loss: 197.6675\n",
            "itr: 3000 | loss: 145.4801\n",
            "MAIN TRAINING ...\n"
          ],
          "name": "stdout"
        }
      ]
    },
    {
      "cell_type": "code",
      "metadata": {
        "id": "mCv0FYb8XM-I"
      },
      "source": [
        "saver.restore(sess, file_path + '/model')\n",
        "\n",
        "risk_all = f_get_risk_predictions(sess, model, te_data, te_data_mi, pred_time, eval_time)\n",
        "\n",
        "for p, p_time in enumerate(pred_time):\n",
        "    pred_horizon = int(p_time)\n",
        "    result1, result2 = np.zeros([num_Event, len(eval_time)]), np.zeros([num_Event, len(eval_time)])\n",
        "\n",
        "    for t, t_time in enumerate(eval_time):                \n",
        "        eval_horizon = int(t_time) + pred_horizon\n",
        "        for k in range(num_Event):\n",
        "            result1[k, t] = c_index(risk_all[k][:, p, t], te_time, (te_label[:,0] == k+1).astype(int), eval_horizon) #-1 for no event (not comparable)\n",
        "            result2[k, t] = brier_score(risk_all[k][:, p, t], te_time, (te_label[:,0] == k+1).astype(int), eval_horizon) #-1 for no event (not comparable)\n",
        "    \n",
        "    if p == 0:\n",
        "        final1, final2 = result1, result2\n",
        "    else:\n",
        "        final1, final2 = np.append(final1, result1, axis=0), np.append(final2, result2, axis=0)\n",
        "        \n",
        "        \n",
        "row_header = []\n",
        "for p_time in pred_time:\n",
        "    for t in range(num_Event):\n",
        "        row_header.append('pred_time {}: event_{}'.format(p_time,k+1))\n",
        "            \n",
        "col_header = []\n",
        "for t_time in eval_time:\n",
        "    col_header.append('eval_time {}'.format(t_time))\n",
        "\n",
        "# c-index result\n",
        "df1 = pd.DataFrame(final1, index = row_header, columns=col_header)\n",
        "\n",
        "# brier-score result\n",
        "df2 = pd.DataFrame(final2, index = row_header, columns=col_header)\n",
        "\n",
        "### PRINT RESULTS\n",
        "print('========================================================')\n",
        "print('--------------------------------------------------------')\n",
        "print('- C-INDEX: ')\n",
        "print(df1)\n",
        "print('--------------------------------------------------------')\n",
        "print('- BRIER-SCORE: ')\n",
        "print(df2)\n",
        "print('========================================================')"
      ],
      "execution_count": null,
      "outputs": []
    }
  ]
}